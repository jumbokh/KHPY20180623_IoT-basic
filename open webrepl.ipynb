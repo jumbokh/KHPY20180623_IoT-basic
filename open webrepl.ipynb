{
 "cells": [
  {
   "cell_type": "markdown",
   "metadata": {},
   "source": [
    "# Open webrepl"
   ]
  },
  {
   "cell_type": "markdown",
   "metadata": {},
   "source": [
    "* 使用serial方式通訊，下指令開啟\n",
    "* [Putty工具連結](https://www.chiark.greenend.org.uk/~sgtatham/putty/latest.html)\n",
    "* [只下載單一個Putty檔](https://the.earth.li/~sgtatham/putty/latest/w32/putty.exe)"
   ]
  },
  {
   "cell_type": "markdown",
   "metadata": {},
   "source": [
    "### 過程如下：\n",
    "\n",
    "```\n",
    ">>> import webrepl_setup\n",
    "WebREPL daemon auto-start status: disabled\n",
    "\n",
    "Would you like to (E)nable or (D)isable it running on boot?\n",
    "(Empty line to quit)\n",
    "> E\n",
    "To enable WebREPL, you must set password for it\n",
    "New password: 1234\n",
    "Confirm password: 1234\n",
    "Changes will be activated after reboot\n",
    "Would you like to reboot now? (y/n) y\n",
    ">>>\n",
    " ets Jan  8 2013,rst cause:2, boot mode:(3,7)\n",
    "\n",
    "load 0x40100000, len 32000, room 16\n",
    "tail 0\n",
    "chksum 0xee\n",
    "load 0x3ffe8000, len 1104, room 8\n",
    "tail 8\n",
    "chksum 0xaa\n",
    "load 0x3ffe8450, len 3000, room 0\n",
    "\n",
    "...\n",
    "\n",
    "WebREPL daemon started on ws://192.168.4.1:8266\n",
    "WebREPL daemon started on ws://0.0.0.0:8266\n",
    "Started webrepl in normal mode\n",
    "ap config here!\n",
    "\n",
    "```"
   ]
  },
  {
   "cell_type": "markdown",
   "metadata": {},
   "source": [
    "### 最後會看到 \"WebREPL Daemon started\"就表示功能已開啟"
   ]
  }
 ],
 "metadata": {
  "kernelspec": {
   "display_name": "Python 3",
   "language": "python",
   "name": "python3"
  },
  "language_info": {
   "codemirror_mode": {
    "name": "ipython",
    "version": 3
   },
   "file_extension": ".py",
   "mimetype": "text/x-python",
   "name": "python",
   "nbconvert_exporter": "python",
   "pygments_lexer": "ipython3",
   "version": "3.6.1"
  }
 },
 "nbformat": 4,
 "nbformat_minor": 2
}
