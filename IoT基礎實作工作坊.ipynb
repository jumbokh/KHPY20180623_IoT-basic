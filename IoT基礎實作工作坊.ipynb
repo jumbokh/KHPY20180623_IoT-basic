{
 "cells": [
  {
   "cell_type": "markdown",
   "metadata": {},
   "source": [
    "## 課程大綱\n",
    "\n",
    "- 簡介\n",
    "    - 說明課程含蓋的主題\n",
    "    - 說明一下硬體背景\n",
    "\n",
    "- MicroPython Basic\n",
    "    - 連線方式、腳位說明\n",
    "    - 以開關Led為demo\n",
    "\n",
    "- 蜂鳴器 (Buzzer, 無源)\n",
    "    - 基本Do, Re, Mi\n",
    "    - 練習寫歌 (小星星、小蜜蜂)\n",
    "\n",
    "- 練習、休息\n",
    "\n",
    "- 溫溼度感測器\n",
    "    - 基本量測練習\n",
    "    - 溫度鴨實作 (溫度感測器+蜂鳴器)\n",
    "    ![溫度鴨](https://s.yimg.com/ut/api/res/1.2/kpDKLsamvN5nuUvAiaFXsg--~B/YXBwaWQ9eXR3bWFsbDtjYz0zMTUzNjAwMDtoPTYwMDtxPTgxO3c9NjAw/https://s.yimg.com/sw/ps_image_prod/item/p09073350080-item-1515xf3x0270x0270-m.jpg)\n",
    "\n",
    "- ----中餐 12:00~13:00 ----\n",
    "- ----下午課程----\n",
    "\n",
    "- 溫度警報器 (line訊息警報)\n",
    "    - line 訊息機制說明\n",
    "    - line警報訊息實作\n",
    "    - (講師先架好一個jupyter3的環境給學員用比較保險，如果學員已有灌anaconda更好)\n",
    "\n",
    "- 溫度資訊視覺化\n",
    "    - ThingSpeaker 說明\n",
    "    - 練習：溫溼度資訊上傳雲端\n",
    "    - (講師先架好一個jupyter3的環境給學員用比較保險，如果學員已有灌anaconda更好)\n",
    "\n",
    "- 上雲端即時互動\n",
    "    - MQTT雲端介紹\n",
    "    - 手機設定方式(先讓學員連講師的資料)\n",
    "    - 溫溼度資訊上雲端\n",
    "    - 手機控制Led\n",
    "    - 手機加入自己的點位\n",
    "\n",
    "- 休息\n",
    "   \n",
    "- 網頁實作\n",
    "    - 單晶片也可以當web server\n",
    "    - 練習題：製作網頁顯示溫溼度資訊\n",
    "    - 練習題：製作網頁控制蜂鳴器發聲"
   ]
  },
  {
   "cell_type": "markdown",
   "metadata": {},
   "source": [
    "### 腳位定義\n",
    "- LED (D4)\n",
    "- Buzzer (D3) --> 改用 D2\n",
    "- T/H sensor (D2) --> 改用(D1 -> GPIO5)\n",
    "- (D3)接buzzer上電後會有問題"
   ]
  },
  {
   "cell_type": "markdown",
   "metadata": {},
   "source": [
    "## MicroPython Basic\n",
    "- Led控制\n",
    "- 迴圈語法複習"
   ]
  },
  {
   "cell_type": "code",
   "execution_count": 1,
   "metadata": {},
   "outputs": [
    {
     "name": "stdout",
     "output_type": "stream",
     "text": [
      "usage: %websocketconnect [--raw] [--password PASSWORD] [--verbose]\n",
      "                         [websocketurl]\n",
      "\n",
      "positional arguments:\n",
      "  websocketurl\n",
      "\n",
      "optional arguments:\n",
      "  --raw                Just open connection\n",
      "  --password PASSWORD\n",
      "  --verbose\n"
     ]
    }
   ],
   "source": [
    "# %serialconnect to --port=com13 --baud=115200\n",
    "%websocketconnect"
   ]
  },
  {
   "cell_type": "code",
   "execution_count": 43,
   "metadata": {},
   "outputs": [
    {
     "name": "stdout",
     "output_type": "stream",
     "text": [
      "\u001b[34m** WebSocket connected **\n",
      "\u001b[0mPassword: \u001b[34mReady.\n",
      "\u001b[0m"
     ]
    }
   ],
   "source": [
    "%websocketconnect --password 1234 ws://192.168.43.245:8266"
   ]
  },
  {
   "cell_type": "code",
   "execution_count": 44,
   "metadata": {},
   "outputs": [
    {
     "name": "stdout",
     "output_type": "stream",
     "text": [
      "."
     ]
    }
   ],
   "source": [
    "# 控制板子上的Led燈\n",
    "import machine\n",
    "import time\n",
    "\n",
    "p = machine.Pin(2, machine.Pin.OUT) #D4\n",
    "p.value(1)\n",
    "\n",
    "for i in range(6):\n",
    "    p.value(not p.value())\n",
    "    time.sleep(1)"
   ]
  },
  {
   "cell_type": "code",
   "execution_count": 14,
   "metadata": {},
   "outputs": [
    {
     "name": "stdout",
     "output_type": "stream",
     "text": [
      "."
     ]
    }
   ],
   "source": [
    "# 換個寫法\n",
    "from machine import Pin\n",
    "import time\n",
    "\n",
    "p2 = Pin(2, Pin.OUT) #D4\n",
    "\n",
    "for i in range(6):\n",
    "    p2.value(not p2.value())\n",
    "    time.sleep(1)"
   ]
  },
  {
   "cell_type": "markdown",
   "metadata": {},
   "source": [
    "### 練習\n",
    "- 練習讓Led一秒閃二下\n",
    "- 練習讓Led用心跳的方式閃動"
   ]
  },
  {
   "cell_type": "code",
   "execution_count": null,
   "metadata": {
    "collapsed": true
   },
   "outputs": [],
   "source": [
    "#TODO:"
   ]
  },
  {
   "cell_type": "markdown",
   "metadata": {},
   "source": [
    "## 蜂鳴器\n",
    "\n",
    "- 有源 vs 無源? (active vs passive)\n",
    "- 本課程使用的為「無源蜂鳴器」 (passive buzzer)\n",
    "- 腳位(D3 -> GPIO0)\n",
    "\n",
    "*** ESP8266 的 PWM 最高只能到 1000 Hz, C6 (1046 Hz) 以上的聲音是無法發出來的"
   ]
  },
  {
   "cell_type": "code",
   "execution_count": 7,
   "metadata": {},
   "outputs": [
    {
     "name": "stdout",
     "output_type": "stream",
     "text": [
      "..."
     ]
    }
   ],
   "source": [
    "from machine import Pin,PWM\n",
    "import time\n",
    "\n",
    "def alarmBeep(beeper):\n",
    "    beeper.freq(1000)   \n",
    "    beeper.duty(512)\n",
    "    time.sleep(1)\n",
    "    beeper.deinit()\n",
    "    time.sleep(2)\n",
    "\n",
    "beeper=PWM(Pin(0)) #D3\n",
    "\n",
    "for i in range(4):\n",
    "    alarmBeep(beeper)"
   ]
  },
  {
   "cell_type": "code",
   "execution_count": 16,
   "metadata": {},
   "outputs": [
    {
     "name": "stdout",
     "output_type": "stream",
     "text": [
      ".."
     ]
    }
   ],
   "source": [
    "# 電話鈴聲\n",
    "\n",
    "from machine import Pin,PWM\n",
    "import time\n",
    "\n",
    "def ringTone(pwm):\n",
    "    for i in range(1,11):\n",
    "        pwm.freq(1000)\n",
    "        pwm.duty(512)\n",
    "        time.sleep_ms(50)\n",
    "        pwm.freq(500)\n",
    "        time.sleep_ms(50)\n",
    "    pwm.deinit()\n",
    "    time.sleep(2)\n",
    "\n",
    "#pwm=PWM(Pin(0)) #D3\n",
    "pwm=PWM(Pin(4)) #D2\n",
    "\n",
    "for i in range(4):\n",
    "    ringTone(pwm)"
   ]
  },
  {
   "cell_type": "code",
   "execution_count": 19,
   "metadata": {},
   "outputs": [
    {
     "name": "stdout",
     "output_type": "stream",
     "text": [
      "."
     ]
    }
   ],
   "source": [
    "# 音階\n",
    "\n",
    "# testing\n",
    "# 無源3pin較大聲，但有的音階較小\n",
    "# 無源2pin聲音較小，但較平均\n",
    "\n",
    "from machine import Pin, PWM\n",
    "import time\n",
    "tempo = 5\n",
    "tones = {\n",
    "    'c': 262,\n",
    "    'd': 294,\n",
    "    'e': 330,\n",
    "    'f': 349,\n",
    "    'g': 392,\n",
    "    'a': 440,\n",
    "    'b': 494,\n",
    "    'C': 523,\n",
    "    ' ': 0,\n",
    "}\n",
    "beeper = PWM(Pin(4, Pin.OUT), freq=440, duty=512) #D2\n",
    "melody = 'cdefgabC '\n",
    "rhythm = [8, 8, 8, 8, 8, 8, 8, 8, 8]\n",
    "\n",
    "for tone, length in zip(melody, rhythm):\n",
    "    beeper.freq(tones[tone])\n",
    "    time.sleep(tempo/length)\n",
    "beeper.deinit()\n"
   ]
  },
  {
   "cell_type": "code",
   "execution_count": 21,
   "metadata": {},
   "outputs": [
    {
     "name": "stdout",
     "output_type": "stream",
     "text": [
      "..."
     ]
    }
   ],
   "source": [
    "# 小星星\n",
    "from machine import Pin,PWM\n",
    "import time\n",
    "\n",
    "C4=262\n",
    "CS4=277\n",
    "D4=294\n",
    "DS4=311\n",
    "E4=330\n",
    "F4=349\n",
    "FS4=370\n",
    "G4=392\n",
    "GS4=415\n",
    "A4=440\n",
    "AS4=466\n",
    "B4=494\n",
    "C5=523\n",
    "#CS5=554\n",
    "D5=587\n",
    "#DS5=622\n",
    "E5=659\n",
    "F5=698\n",
    "#FS5=740\n",
    "G5=784\n",
    "#GS5=831\n",
    "A5=880\n",
    "#AS5=932\n",
    "B5=988\n",
    "\n",
    "note=(C5, C5, G5, G5, A5, A5, G5, 0, F5, F5, E5, E5, D5, D5, C5, 0,\n",
    "      G5, G5, F5, F5, E5, E5, D5, 0, G5, G5, F5, F5, E5, E5, D5, 0,\n",
    "      C5, C5, G5, G5, A5, A5, G5, 0, F5, F5, E5, E5, D5, D5, C5, 0,\n",
    "      )\n",
    "duration=(4, 4, 4, 4, 4, 4, 4, 4, 4, 4, 4, 4, 4, 4, 4, 4,\n",
    "          4, 4, 4, 4, 4, 4, 4, 4, 4, 4, 4, 4, 4, 4, 4, 4,\n",
    "          4, 4, 4, 4, 4, 4, 4, 4, 4, 4, 4, 4, 4, 4, 4, 4,\n",
    "          )\n",
    "\n",
    "def tone(pwm,note,duration):\n",
    "    if note>0:\n",
    "        pwm.freq(note)           \n",
    "        pwm.duty(512)\n",
    "    time.sleep_ms(duration)\n",
    "    pwm.deinit()\n",
    "    time.sleep_ms(int(duration/4))\n",
    "\n",
    "def music(pwm):\n",
    "    for i in range(0,len(note)):\n",
    "        d=int(1000/duration[i])\n",
    "        tone(pwm, note[i], d)\n",
    "        #p=int(d*1.3)\n",
    "        #time.sleep_ms(p)\n",
    "    time.sleep(1)\n",
    "\n",
    "pwm=PWM(Pin(4)) \n",
    "\n",
    "for i in range(1):\n",
    "    music(pwm)"
   ]
  },
  {
   "cell_type": "code",
   "execution_count": 13,
   "metadata": {},
   "outputs": [
    {
     "name": "stdout",
     "output_type": "stream",
     "text": [
      "...."
     ]
    }
   ],
   "source": [
    "# 暖暖，前半部\n",
    "\n",
    "from machine import Pin,PWM\n",
    "import time\n",
    "\n",
    "C4=262\n",
    "CS4=277\n",
    "D4=294\n",
    "DS4=311\n",
    "E4=330\n",
    "F4=349\n",
    "FS4=370\n",
    "G4=392\n",
    "GS4=415\n",
    "A4=440\n",
    "AS4=466\n",
    "B4=494\n",
    "C5=523\n",
    "#CS5=554\n",
    "D5=587\n",
    "#DS5=622\n",
    "E5=659\n",
    "F5=698\n",
    "#FS5=740\n",
    "G5=784\n",
    "#GS5=831\n",
    "A5=880\n",
    "#AS5=932\n",
    "B5=988\n",
    "\n",
    "note=(G4, C5, D5, D5, E5, E5, D5, E5, E5, \n",
    "      D5, E5, G5, E5, C5, C5, G4, A4, E5, D5, C5, D5,\n",
    "      E5, 0 , G4, C5, D5, D5, E5, E5, D5, E5, E5, \n",
    "      D5, E5, G5, E5, C5, C5, B4, A4, E5, D5, C5, D5, \n",
    "      C5,\n",
    "      )\n",
    "duration=(8, 8, 8, 8, 8, 4, 8, 8, 4, \n",
    "          8, 8, 8, 8, 4, 8, 8, 3, 8, 4, 8, 8, \n",
    "          2, 8, 8, 8, 8, 8, 8, 4, 8, 8, 4,\n",
    "          8, 8, 8, 8, 4, 8, 8, 3, 8, 4, 8, 8, \n",
    "          1,\n",
    "          )\n",
    "\n",
    "def tone(pwm,note,duration):\n",
    "    if note>0:\n",
    "        pwm.freq(note)           \n",
    "        pwm.duty(512)\n",
    "    time.sleep_ms(duration)\n",
    "    pwm.deinit()\n",
    "    time.sleep_ms(int(duration/4))\n",
    "\n",
    "def music(pwm):\n",
    "    for i in range(0,len(note)):\n",
    "        d=int(1000/duration[i])\n",
    "        tone(pwm, note[i], d*2)\n",
    "        #p=int(d*1.3)\n",
    "        #time.sleep_ms(p)\n",
    "    time.sleep(1)\n",
    "\n",
    "#pwm=PWM(Pin(0)) #D3\n",
    "pwm=PWM(Pin(4)) #D2\n",
    "\n",
    "for i in range(1):\n",
    "    music(pwm)"
   ]
  },
  {
   "cell_type": "markdown",
   "metadata": {},
   "source": [
    "### 練習\n",
    "\n",
    "- 練習編一首歌，如：小星星\n"
   ]
  },
  {
   "cell_type": "code",
   "execution_count": null,
   "metadata": {
    "collapsed": true
   },
   "outputs": [],
   "source": [
    "#TODO:"
   ]
  },
  {
   "cell_type": "markdown",
   "metadata": {},
   "source": [
    "## 溫溼度感測器\n",
    "\n",
    "- 外觀如圖所示\n",
    "- ![圖片](image/DHT-11.png)\n",
    "- [說明原理](ref/DHT11.pdf) [(中文)](ref/DHT11-chinese.pdf)\n",
    "- demo\n",
    "- 練習"
   ]
  },
  {
   "cell_type": "code",
   "execution_count": 23,
   "metadata": {},
   "outputs": [
    {
     "name": "stdout",
     "output_type": "stream",
     "text": [
      "T=29, H=95\r\n"
     ]
    }
   ],
   "source": [
    "# upy to read temperature, humidity\n",
    "\n",
    "import dht\n",
    "from machine import Pin\n",
    "\n",
    "d = dht.DHT11(Pin(5)) #D1\n",
    "d.measure()\n",
    "T = d.temperature() # eg. 23 (℃)\n",
    "H = d.humidity()    # eg. 41 (% RH)\n",
    "print(\"T=%s, H=%s\" %(T, H))\n"
   ]
  },
  {
   "cell_type": "markdown",
   "metadata": {},
   "source": [
    "### 練習題：溫度超過32度，亮起Led燈"
   ]
  },
  {
   "cell_type": "code",
   "execution_count": null,
   "metadata": {
    "collapsed": true
   },
   "outputs": [],
   "source": [
    "#TODO:"
   ]
  },
  {
   "cell_type": "code",
   "execution_count": 31,
   "metadata": {},
   "outputs": [
    {
     "name": "stdout",
     "output_type": "stream",
     "text": [
      "T=32, H=95\r\n"
     ]
    }
   ],
   "source": [
    "# 示範解題\n",
    "import dht\n",
    "from machine import Pin\n",
    "\n",
    "d = dht.DHT11(Pin(5)) #D1\n",
    "led = Pin(2, Pin.OUT) #D4\n",
    "\n",
    "#while(True):\n",
    "d.measure()\n",
    "T = d.temperature() # eg. 23 (℃)\n",
    "H = d.humidity()    # eg. 41 (% RH)\n",
    "print(\"T=%s, H=%s\" %(T, H))\n",
    "if T>=32:\n",
    "    led.value(0) #ON\n",
    "else:\n",
    "    led.value(1) #OFF"
   ]
  },
  {
   "cell_type": "code",
   "execution_count": 32,
   "metadata": {
    "scrolled": true
   },
   "outputs": [
    {
     "name": "stdout",
     "output_type": "stream",
     "text": [
      "T=33, H=95\n",
      "T=30, H=95\n",
      "T=30, H=95\n",
      "T=30, H=95\n",
      "T=32, H=95\n",
      ".T=33, H=95\n",
      "T=33, H=95\n",
      "T=34, H=95\n",
      "T=34, H=95\n",
      "T=33, H=95\n",
      ".T=32, H=95\n",
      "T=32, H=95\n",
      "T=31, H=95\n",
      "T=31, H=95\n",
      "T=31, H=95\n",
      ".T=31, H=95\n",
      "T=31, H=95\n",
      "T=31, H=95\n",
      "T=31, H=95\n",
      "T=31, H=95\n",
      ".T=31, H=95\n",
      "T=31, H=95\n",
      "T=31, H=95\n",
      "T=31, H=95\n",
      "T=31, H=95\n",
      ".T=31, H=95\n",
      "T=31, H=95\n",
      "T=31, H=95\n",
      "T=31, H=95\n",
      "\u001b[34m\n",
      "\n",
      "*** Sending Ctrl-C\n",
      "\n",
      "\u001b[0m"
     ]
    },
    {
     "name": "stderr",
     "output_type": "stream",
     "text": [
      "Traceback (most recent call last):\n",
      "  File \"<stdin>\", line 10, in <module>\n",
      "  File \"dht.py\", line 13, in measure\n",
      "KeyboardInterrupt: \n"
     ]
    }
   ],
   "source": [
    "# 示範解題\n",
    "import dht\n",
    "from machine import Pin\n",
    "import time\n",
    "\n",
    "d = dht.DHT11(Pin(5)) #D1\n",
    "led = Pin(2, Pin.OUT) #D4\n",
    "\n",
    "while(True):\n",
    "    d.measure()\n",
    "    T = d.temperature() # eg. 23 (℃)\n",
    "    H = d.humidity()    # eg. 41 (% RH)\n",
    "    print(\"T=%s, H=%s\" %(T, H))\n",
    "    if T>=32:\n",
    "        led.value(0) #ON\n",
    "    else:\n",
    "        led.value(1) #OFF\n",
    "    time.sleep(1)"
   ]
  },
  {
   "cell_type": "markdown",
   "metadata": {},
   "source": [
    "### 練習題：溫度鴨實作 (溫度感測器+蜂鳴器)\n",
    "- 溫度過高時，讓蜂鳴器鳴叫"
   ]
  },
  {
   "cell_type": "code",
   "execution_count": null,
   "metadata": {
    "collapsed": true
   },
   "outputs": [],
   "source": [
    "#TODO:"
   ]
  },
  {
   "cell_type": "code",
   "execution_count": 33,
   "metadata": {
    "scrolled": true
   },
   "outputs": [
    {
     "name": "stdout",
     "output_type": "stream",
     "text": [
      "T=31, H=95\n",
      "T=29, H=95\n",
      "T=29, H=95\n",
      "T=28, H=95\n",
      "T=29, H=95\n",
      ".T=29, H=95\n",
      "T=29, H=95\n",
      "T=30, H=95\n",
      "T=31, H=95\n",
      "T=31, H=95\n",
      ".T=32, H=95\n",
      "T=33, H=95\n",
      "T=33, H=95\n",
      "T=33, H=95\n",
      ".T=33, H=95\n",
      "T=33, H=95\n",
      "T=33, H=95\n",
      "T=34, H=95\n",
      ".T=33, H=95\n",
      "T=33, H=95\n",
      "T=33, H=95\n",
      ".T=33, H=95\n",
      "T=34, H=95\n",
      "T=33, H=95\n",
      "T=33, H=95\n",
      ".T=32, H=95\n",
      "T=32, H=95\n",
      "T=31, H=95\n",
      ".T=32, H=95\n",
      "T=32, H=95\n",
      "T=31, H=95\n",
      "T=31, H=95\n",
      "T=31, H=95\n",
      ".\u001b[34m\n",
      "\n",
      "*** Sending Ctrl-C\n",
      "\n",
      "\u001b[0m"
     ]
    },
    {
     "name": "stderr",
     "output_type": "stream",
     "text": [
      "Traceback (most recent call last):\n",
      "  File \"<stdin>\", line 10, in <module>\n",
      "  File \"dht.py\", line 13, in measure\n",
      "KeyboardInterrupt: \n"
     ]
    }
   ],
   "source": [
    "# 示範解題\n",
    "import dht\n",
    "from machine import Pin\n",
    "import time\n",
    "\n",
    "d = dht.DHT11(Pin(5)) #D1\n",
    "\n",
    "while(True):\n",
    "    d.measure()\n",
    "    T = d.temperature() # eg. 23 (℃)\n",
    "    H = d.humidity()    # eg. 41 (% RH)\n",
    "    print(\"T=%s, H=%s\" %(T, H))\n",
    "    if T>=32:\n",
    "        beeper = PWM(Pin(4, Pin.OUT), freq=440, duty=512) #D2\n",
    "        time.sleep(0.2)\n",
    "        beeper.freq(523)\n",
    "        time.sleep(0.2)\n",
    "        beeper.deinit()\n",
    "    time.sleep(1)"
   ]
  },
  {
   "cell_type": "markdown",
   "metadata": {},
   "source": [
    "### ==== 下午課程 ===="
   ]
  },
  {
   "cell_type": "markdown",
   "metadata": {},
   "source": [
    "## 雲端應用教學\n",
    "- line\n",
    "- ThingSpeak\n",
    "- MQTT"
   ]
  },
  {
   "cell_type": "markdown",
   "metadata": {},
   "source": [
    "----\n",
    "## 雲端應用 - line平台溫度警報器\n",
    "\n",
    "- line 訊息機制說明\n",
    "- 請大家加入本課程的[demo group](http://line.me/R/ti/g/7qsbO8JCB5)\n",
    "    - ![KHPY IOT Class](image/KHPY-IOT-class-barcode.jpg)\n",
    "- line警報訊息實作\n",
    "    - 使用「KHPY課程群組」試著發訊息\n",
    "    - 請學員申請自己的line群組token，或自己的token也行\n",
    "    - 申請連結：https://notify-bot.line.me/my/"
   ]
  },
  {
   "cell_type": "code",
   "execution_count": 35,
   "metadata": {},
   "outputs": [
    {
     "name": "stdout",
     "output_type": "stream",
     "text": [
      "..result:  b'OK'\n"
     ]
    }
   ],
   "source": [
    "# EX: https://khpy-line.herokuapp.com/line?token=YEdh1qqHa5eXNTNsPGvJKSvVR1AXrkOuw9blRWPmUCP&message=hi\n",
    "import urequests\n",
    "\n",
    "url = \"https://khpy-line.herokuapp.com/line\"\n",
    "token = 'YEdh1qqHa5eXNTNsPGvJKSvVR1AXrkOuw9blRWPmUCP'\n",
    "\n",
    "message =  'KHPY so nice'\n",
    "message = message.replace(' ', '%20')\n",
    "payload = {'token':token, \"message\":message}\n",
    "\n",
    "#r = urequests.post(url, params=payload) # urequests do not has 'params'\n",
    "r = urequests.post(url+'?'+'token='+token+'&message='+message)\n",
    "print('result: ', r.content)\n",
    "r.close()"
   ]
  },
  {
   "cell_type": "code",
   "execution_count": 36,
   "metadata": {},
   "outputs": [
    {
     "name": "stdout",
     "output_type": "stream",
     "text": [
      ".result:  b'OK'\n"
     ]
    }
   ],
   "source": [
    "import urequests\n",
    "\n",
    "url = \"http://khpy-line.herokuapp.com/line2\"\n",
    "token = 'YEdh1qqHa5eXNTNsPGvJKSvVR1AXrkOuw9blRWPmUCP'\n",
    "\n",
    "message =  'KHPY so nice...'\n",
    "payload = {'token':token, \"message\":message}\n",
    "\n",
    "r = urequests.post(url, json=payload) #not real json data to server, it use 'data'\n",
    "print('result: ', r.content)\n",
    "r.close()"
   ]
  },
  {
   "cell_type": "markdown",
   "metadata": {},
   "source": [
    "### 練習：申請自己的line通知服務"
   ]
  },
  {
   "cell_type": "markdown",
   "metadata": {},
   "source": [
    "### line notify申請方式\n",
    "- 請先連至[申請頁面](https://notify-bot.line.me/my/)\n",
    "- 填入個人帳密登入\n",
    "- ![登入頁面](image/line-notify0.png)\n",
    "- 登入後，請點選頁面最下方的「發行權杖」\n",
    "- ![發行權杖](image/line-notify.png)\n",
    "- 選擇群組，以發行權杖\n",
    "- ![選擇群組](image/line-notify2.png)\n",
    "- 點選下方的完成鍵後，可以得到權杖如下，請複製起來，供實作時使用\n",
    "- ![權杖](image/line-notify3.png)\n",
    "- 請把「LINE Notify」加入你的群組中，這樣我們才能使用權杖(token)讓它發出訊息\n",
    "- ![加入群組](image/line-notify4.png)"
   ]
  },
  {
   "cell_type": "markdown",
   "metadata": {},
   "source": [
    "### 練習題：當溫度超過30度時，發出警告訊息"
   ]
  },
  {
   "cell_type": "code",
   "execution_count": null,
   "metadata": {
    "collapsed": true
   },
   "outputs": [],
   "source": [
    "#TODO:"
   ]
  },
  {
   "cell_type": "code",
   "execution_count": 37,
   "metadata": {},
   "outputs": [
    {
     "name": "stdout",
     "output_type": "stream",
     "text": [
      "T=31, H=95\n",
      "T=30, H=95\n",
      "T=32, H=95\n",
      ".result:  b'OK'\n",
      ".T=33, H=95\n",
      "result:  b'OK'\n",
      ".T=33, H=95\n",
      "result:  b'OK'\n",
      "..T=32, H=95\n",
      "result:  b'OK'\n",
      ".T=31, H=95\n",
      "T=30, H=95\n",
      ".T=30, H=95\n",
      "T=30, H=95\n",
      "T=30, H=95\n",
      "T=30, H=95\n",
      "T=30, H=95\n",
      "\u001b[34m\n",
      "\n",
      "*** Sending Ctrl-C\n",
      "\n",
      "\u001b[0m"
     ]
    },
    {
     "name": "stderr",
     "output_type": "stream",
     "text": [
      "Traceback (most recent call last):\n",
      "  File \"<stdin>\", line 25, in <module>\n",
      "KeyboardInterrupt: \n"
     ]
    }
   ],
   "source": [
    "# 示範解題\n",
    "import dht\n",
    "from machine import Pin\n",
    "import urequests\n",
    "import time\n",
    "\n",
    "def send_line(token = 'YEdh1qqHa5eXNTNsPGvJKSvVR1AXrkOuw9blRWPmUCP', message =  'KHPY so nice...'):\n",
    "    url = \"http://khpy-line.herokuapp.com/line2\"\n",
    "    payload = {'token':token, \"message\":message}\n",
    "    r = urequests.post(url, json=payload) #not real json data to server, it use 'data'\n",
    "    print('result: ', r.content)\n",
    "    r.close()\n",
    "\n",
    "\n",
    "d = dht.DHT11(Pin(5)) #D1\n",
    "\n",
    "while(True):\n",
    "    d.measure()\n",
    "    T = d.temperature() # eg. 23 (℃)\n",
    "    H = d.humidity()    # eg. 41 (% RH)\n",
    "    print(\"T=%s, H=%s\" %(T, H))\n",
    "    if T>=32:\n",
    "        send_line(message='temperature high alarm!! (%d)' %(T))\n",
    "        time.sleep(5)\n",
    "    time.sleep(1)"
   ]
  },
  {
   "cell_type": "markdown",
   "metadata": {},
   "source": [
    "### Line 補充教材\n",
    "\n",
    "- [使用Python發訊息](line-notify.ipynb)"
   ]
  },
  {
   "cell_type": "markdown",
   "metadata": {},
   "source": [
    "----\n",
    "## 雲端應用 - ThingSpeak\n",
    "\n",
    "- [申請教學](ThingSpeak.ipynb)"
   ]
  },
  {
   "cell_type": "code",
   "execution_count": null,
   "metadata": {
    "collapsed": true
   },
   "outputs": [],
   "source": [
    "# demo\n",
    "\n",
    "import urequests\n",
    "import dht\n",
    "from machine import Pin\n",
    "\n",
    "url = \"http://api.thingspeak.com/update?api_key=TWB7BD496GOYPGM1&field1=25&field2=65\"\n",
    "api_key = 'TWB7BD496GOYPGM1'\n",
    "field1 = 20 #T\n",
    "field2 = 60 #H\n",
    "\n",
    "\n",
    "url_update = 'http://api.thingspeak.com/update?api_key='+api_key+'&field1='+str(field1)+'&field2='+str(field2)\n",
    "r = urequests.post(url_update)\n",
    "print('result: ', r.content)\n",
    "r.close()\n"
   ]
  },
  {
   "cell_type": "markdown",
   "metadata": {},
   "source": [
    "### 練習：把溫溼度資訊送上ThingSpeak\n",
    "- 上傳速度1分鐘一次為佳 (ThingSpeak最快只能接受30秒一筆)"
   ]
  },
  {
   "cell_type": "code",
   "execution_count": null,
   "metadata": {
    "collapsed": true
   },
   "outputs": [],
   "source": [
    "#TODO:"
   ]
  },
  {
   "cell_type": "code",
   "execution_count": 38,
   "metadata": {
    "scrolled": true
   },
   "outputs": [
    {
     "name": "stdout",
     "output_type": "stream",
     "text": [
      "T=30, H=95\n",
      "result:  b'6'\n"
     ]
    }
   ],
   "source": [
    "# 示範解題\n",
    "import urequests\n",
    "import dht\n",
    "from machine import Pin\n",
    "\n",
    "url = \"http://api.thingspeak.com/update?api_key=TWB7BD496GOYPGM1&field1=25&field2=65\"\n",
    "api_key = 'TWB7BD496GOYPGM1'\n",
    "field1 = 20 #T\n",
    "field2 = 60 #H\n",
    "\n",
    "d = dht.DHT11(Pin(5)) #D1\n",
    "\n",
    "d.measure()\n",
    "T = d.temperature() # eg. 23 (℃)\n",
    "H = d.humidity()    # eg. 41 (% RH)\n",
    "print(\"T=%s, H=%s\" %(T, H))\n",
    "\n",
    "url_update = 'http://api.thingspeak.com/update?api_key='+api_key+'&field1='+str(T)+'&field2='+str(H)\n",
    "r = urequests.post(url_update)\n",
    "print('result: ', r.content)\n",
    "r.close()\n"
   ]
  },
  {
   "cell_type": "markdown",
   "metadata": {},
   "source": [
    "- 呈現的結果\n",
    "[畫面](https://thingspeak.com/channels/507185)"
   ]
  },
  {
   "cell_type": "markdown",
   "metadata": {},
   "source": [
    "----\n",
    "## 雲端應用 - MQTT\n",
    "- MQTT介紹\n",
    "- 手機設定方式(請學員先連講師的demo資料)\n",
    "    - [參考這邊](MicroPython How to.ipynb)  --> 改為直接使用Linear MQTT Dashboard進行教學\n",
    "- 溫溼度資訊上雲端\n",
    "- 手機加入自己的點位\n",
    "- 手機控制Led"
   ]
  },
  {
   "cell_type": "code",
   "execution_count": 41,
   "metadata": {},
   "outputs": [
    {
     "name": "stdout",
     "output_type": "stream",
     "text": [
      ".T=29, H=95\n",
      "T=31, H=95\n",
      "T=31, H=95\n"
     ]
    }
   ],
   "source": [
    "# demo: push T/H data to MQTT Server\n",
    "\n",
    "from umqtt.simple import MQTTClient\n",
    "from machine import Pin\n",
    "import dht\n",
    "import ubinascii\n",
    "import machine\n",
    "import network\n",
    "import time\n",
    "import os\n",
    "\n",
    "TOPIC_BASE = 'malo-iot'\n",
    "\n",
    "def dht_get():\n",
    "    T=None\n",
    "    H=None\n",
    "    try:\n",
    "        d = dht.DHT11(Pin(5)) #D1\n",
    "\n",
    "        d.measure()\n",
    "        T = d.temperature()\n",
    "        H = d.humidity()\n",
    "    except Exception as e:\n",
    "        print('dht_get error:', str(e))\n",
    "    \n",
    "    return T, H\n",
    "\n",
    "\n",
    "# Default MQTT server to connect to\n",
    "server = \"iot.eclipse.org\"\n",
    "CLIENT_ID = ubinascii.hexlify(machine.unique_id()).decode('utf-8')\n",
    "topic_t = TOPIC_BASE+'/T'\n",
    "topic_h = TOPIC_BASE+'/H'\n",
    "\n",
    "c = MQTTClient(CLIENT_ID, server)\n",
    "c.connect()\n",
    "\n",
    "tm_pub_th = time.ticks_ms()\n",
    "\n",
    "for i in range(3):\n",
    "    time.sleep(1)\n",
    "    T, H = dht_get()\n",
    "    print(\"T=%s, H=%s\" %(T, H))\n",
    "    c.publish(topic_t, str(T))\n",
    "    c.publish(topic_h, str(H))\n"
   ]
  },
  {
   "cell_type": "markdown",
   "metadata": {},
   "source": [
    "### 練習：不斷push溫溼度資料到雲端，並顯示在手機裡"
   ]
  },
  {
   "cell_type": "code",
   "execution_count": null,
   "metadata": {
    "collapsed": true
   },
   "outputs": [],
   "source": [
    "#TODO:"
   ]
  },
  {
   "cell_type": "markdown",
   "metadata": {},
   "source": [
    "### Demo：一邊上傳，一邊接受控制Led燈號"
   ]
  },
  {
   "cell_type": "code",
   "execution_count": null,
   "metadata": {
    "collapsed": true
   },
   "outputs": [],
   "source": []
  },
  {
   "cell_type": "markdown",
   "metadata": {},
   "source": [
    "### 練習題：再加入控制蜂鳴器的功能"
   ]
  },
  {
   "cell_type": "code",
   "execution_count": null,
   "metadata": {
    "collapsed": true
   },
   "outputs": [],
   "source": [
    "#TODO:"
   ]
  },
  {
   "cell_type": "markdown",
   "metadata": {},
   "source": [
    "----\n",
    "## 網頁伺服器\n",
    "- 練習題：製作網頁顯示溫溼度資訊\n",
    "- 練習題：製作網頁控制Led\n",
    "- 練習題：製作網頁控制蜂鳴器發聲\n",
    "- [demo](webdemo)\n",
    "- TODO:\n",
    "    - webdemo_css 版本未完成：還要加入蜂鳴器、讀溫溼度資訊\n",
    "    - webdemo 中的main.py需要簡化，刪除用不到的東西\n"
   ]
  },
  {
   "cell_type": "code",
   "execution_count": null,
   "metadata": {
    "collapsed": true
   },
   "outputs": [],
   "source": []
  }
 ],
 "metadata": {
  "kernelspec": {
   "display_name": "MicroPython - USB",
   "language": "micropython",
   "name": "micropython"
  },
  "language_info": {
   "codemirror_mode": "python",
   "file_extension": ".py",
   "mimetype": "text/python",
   "name": "micropython"
  }
 },
 "nbformat": 4,
 "nbformat_minor": 2
}
