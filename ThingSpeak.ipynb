{
 "cells": [
  {
   "cell_type": "markdown",
   "metadata": {},
   "source": [
    "# ThingSpeak\n",
    "\n",
    "- [申請網址](https://thingspeak.com/)\n",
    "\n",
    "- ![申請資訊](image/thingSpeak-nopwd.png)\n",
    "\n",
    "- 需要再補上設定channel的教學\n",
    "----\n",
    "- 參考這一篇: https://oranwind.org/-raspberry-pi-tou-guo-python-chuan-song-wen-shi-du-zi-xun-dao-thingspeak/\n",
    "- ref: http://yhhuang1966.blogspot.com/2017/06/micropython-on-esp8266-dht11.html\n",
    "- ref: http://yhhuang1966.blogspot.com/2017/08/micropython-on-esp8266-thingspeak.html"
   ]
  },
  {
   "cell_type": "markdown",
   "metadata": {},
   "source": [
    "Write Key: TWB7BD496GOYPGM1TWB\n",
    "Read Key: 465ZFUSL4D6IS6E8\n",
    "\n",
    "取得Channel資訊：\n",
    "https://api.thingspeak.com/channels/507185/feeds.json?api_key=465ZFUSL4D6IS6E8\n",
    "\n",
    "![channel_info_1](image/channel_info_1.png)\n",
    "\n",
    "----\n",
    "- 更新field1的方法\n",
    "- https://api.thingspeak.com/update?api_key=TWB7BD496GOYPGM1&field1=25\n",
    "\n",
    "- 再讀一次，結果如下： https://api.thingspeak.com/channels/507185/feeds.json?api_key=465ZFUSL4D6IS6E8&results=2\n",
    "![channel_info_2](image/channel_info_2.png)"
   ]
  },
  {
   "cell_type": "markdown",
   "metadata": {},
   "source": [
    "- 再更新二次\n",
    "https://api.thingspeak.com/update?api_key=TWB7BD496GOYPGM1&field1=27\n",
    "https://api.thingspeak.com/update?api_key=TWB7BD496GOYPGM1&field1=26\n",
    "\n",
    "- 好像不能連續上傳，最小間隔為?\n",
    "\n",
    "- 再更新2次資訊後，圖形會如下\n",
    "![image](image/channel_info_3.png)"
   ]
  },
  {
   "cell_type": "markdown",
   "metadata": {},
   "source": [
    "----\n",
    "\n",
    "- 再一次上傳T/H二個資訊\n",
    "https://api.thingspeak.com/update?api_key=TWB7BD496GOYPGM1&field1=25&field2=65\n",
    "\n",
    "- 變成\n",
    "![info4](image/channel_info_4.png)"
   ]
  },
  {
   "cell_type": "markdown",
   "metadata": {},
   "source": [
    "----\n",
    "\n",
    "- 所有上傳的歷程\n",
    "https://api.thingspeak.com/channels/507185/feeds.json?api_key=465ZFUSL4D6IS6E8\n",
    "\n",
    "- 最近二個上傳的資訊\n",
    "https://api.thingspeak.com/channels/507185/feeds.json?api_key=465ZFUSL4D6IS6E8&results=2\n"
   ]
  },
  {
   "cell_type": "markdown",
   "metadata": {},
   "source": [
    "## push to thingSpeak"
   ]
  },
  {
   "cell_type": "code",
   "execution_count": 15,
   "metadata": {},
   "outputs": [
    {
     "data": {
      "text/plain": [
       "<Response [200]>"
      ]
     },
     "execution_count": 15,
     "metadata": {},
     "output_type": "execute_result"
    }
   ],
   "source": [
    "import requests\n",
    "\n",
    "# use: https://api.thingspeak.com/update?api_key=TWB7BD496GOYPGM1&field1=25&field2=65\n",
    "# field1: T\n",
    "# field2: H\n",
    "url = 'https://api.thingspeak.com/update'\n",
    "api_key = 'TWB7BD496GOYPGM1'\n",
    "field1 = 20\n",
    "field2 = 80\n",
    "data = {'api_key': api_key, 'field1':field1, 'field2':field2}\n",
    "r = requests.get(url, params=data)\n",
    "r"
   ]
  }
 ],
 "metadata": {
  "kernelspec": {
   "display_name": "Python 3",
   "language": "python",
   "name": "python3"
  },
  "language_info": {
   "codemirror_mode": {
    "name": "ipython",
    "version": 3
   },
   "file_extension": ".py",
   "mimetype": "text/x-python",
   "name": "python",
   "nbconvert_exporter": "python",
   "pygments_lexer": "ipython3",
   "version": "3.6.1"
  }
 },
 "nbformat": 4,
 "nbformat_minor": 2
}
