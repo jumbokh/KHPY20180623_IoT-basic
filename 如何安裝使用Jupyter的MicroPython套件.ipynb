{
 "cells": [
  {
   "cell_type": "markdown",
   "metadata": {},
   "source": [
    "# 如何安裝使用Jupyter的MicroPython套件.ipynb\n",
    "\n",
    "在Jupyter Notebook中要直接和micropython通訊要使用USB線，因此要安裝「jupyter_micropython_kernel」的jupyter kernel才行  \n",
    "\n",
    "\n",
    "### 過程如下：  \n",
    "\n",
    "- 先來這兒git repo下載：https://github.com/goatchurchprime/jupyter_micropython_kernel\n",
    "- 我是用win10，所以直接下載zip檔，解壓後，不用進入repo的目錄，直接下指令：\n",
    "\n",
    "```\n",
    "pip install -e jupyter_micropython_kernel-master\n",
    "```\n",
    "\n",
    "- 安裝訊息如下：\n",
    "\n",
    "```\n",
    "Requirement already satisfied: pyserial>=3.4 in c:\\users\\malo\\anaconda3\\lib\\site-packages (from jupyter-micropython-kernel==0.1.3) (3.4)\n",
    "Collecting websocket-client>=0.44 (from jupyter-micropython-kernel==0.1.3)\n",
    "  Downloading https://files.pythonhosted.org/packages/8a/a1/72ef9aa26cfe1a75cee09fc1957e4723add9de098c15719416a1ee89386b/websocket_client-0.48.0-py2.py3-none-any.whl (198kB)\n",
    "    100% |████████████████████████████████| 204kB 10kB/s\n",
    "Requirement already satisfied: six in c:\\users\\malo\\anaconda3\\lib\\site-packages (from websocket-client>=0.44->jupyter-micropython-kernel==0.1.3) (1.10.0)\n",
    "Installing collected packages: websocket-client, jupyter-micropython-kernel\n",
    "  Running setup.py develop for jupyter-micropython-kernel\n",
    "Successfully installed jupyter-micropython-kernel websocket-client-0.48.0\n",
    "```\n",
    "\n",
    "- 下指令 `jupyter kernelspec list` 查一下目前有的kernel: \n",
    "\n",
    "```\n",
    "    Available kernels:\n",
    "      python3    C:\\Users\\Malo\\Anaconda3\\share\\jupyter\\kernels\\python3\n",
    "```\n",
    "\n",
    "- 再下指令 `python -m jupyter_micropython_kernel.install` 結果如下： \n",
    "\n",
    "```\n",
    "    Installing IPython kernel spec of micropython\n",
    "       into C:\\Users\\Malo\\AppData\\Roaming\\jupyter\\kernels\\micropython\n",
    "```\n",
    "\n",
    "- 這時用指令 `jupyter kernelspec list` 再查一下：\n",
    "\n",
    "```\n",
    "    Available kernels:\n",
    "      micropython    C:\\Users\\Malo\\AppData\\Roaming\\jupyter\\kernels\\micropython\n",
    "      python3        C:\\Users\\Malo\\Anaconda3\\share\\jupyter\\kernels\\python3\n",
    "```\n",
    "\n",
    "- 把jupyternotebook關掉重開就可以看到多了一個MicroPython的選項可以用\n",
    "![MicroPython](image/micropython-kernel.png)\n",
    "\n",
    "- 到這邊就表示可以在Jupyter Notebook上使用Micropython了"
   ]
  },
  {
   "cell_type": "markdown",
   "metadata": {},
   "source": [
    "----\n",
    "## 使用說明\n",
    "\n",
    "- 先新增一個MicroPython的Notebook file\n",
    "- 以下為我的使用過程，你需要依你的com port號碼不同去調整 `--port=comXX`的參數\n",
    "- 如果是使用Linux，應該會是如 `--port=/dev/ttyUSB0` 這樣的參數\n"
   ]
  },
  {
   "cell_type": "code",
   "execution_count": null,
   "metadata": {
    "collapsed": true
   },
   "outputs": [],
   "source": [
    "%serialconnect to --port=com7 --baud=115200"
   ]
  },
  {
   "cell_type": "code",
   "execution_count": null,
   "metadata": {
    "collapsed": true
   },
   "outputs": [],
   "source": [
    "print('hello esp8266')"
   ]
  },
  {
   "cell_type": "code",
   "execution_count": null,
   "metadata": {
    "collapsed": true
   },
   "outputs": [],
   "source": [
    "from machine import Pin, Signal\n",
    "import time\n",
    "\n",
    "p2 = Pin(2, Pin.OUT) #D4\n",
    "p2.value(1)\n",
    "for i in range(6):\n",
    "    p2.value(not p2.value())\n",
    "    time.sleep(1)"
   ]
  },
  {
   "cell_type": "code",
   "execution_count": null,
   "metadata": {
    "collapsed": true
   },
   "outputs": [],
   "source": [
    "# 暖暖，前半部\n",
    "\n",
    "from machine import Pin,PWM\n",
    "import time\n",
    "\n",
    "C4=262\n",
    "CS4=277\n",
    "D4=294\n",
    "DS4=311\n",
    "E4=330\n",
    "F4=349\n",
    "FS4=370\n",
    "G4=392\n",
    "GS4=415\n",
    "A4=440\n",
    "AS4=466\n",
    "B4=494\n",
    "C5=523\n",
    "#CS5=554\n",
    "D5=587\n",
    "#DS5=622\n",
    "E5=659\n",
    "F5=698\n",
    "#FS5=740\n",
    "G5=784\n",
    "#GS5=831\n",
    "A5=880\n",
    "#AS5=932\n",
    "B5=988\n",
    "\n",
    "note=(G4, C5, D5, D5, E5, E5, D5, E5, E5, \n",
    "      D5, E5, G5, E5, C5, C5, G4, A4, E5, D5, C5, D5,\n",
    "      E5, 0 , G4, C5, D5, D5, E5, E5, D5, E5, E5, \n",
    "      D5, E5, G5, E5, C5, C5, B4, A4, E5, D5, C5, D5, \n",
    "      C5,\n",
    "      )\n",
    "duration=(8, 8, 8, 8, 8, 4, 8, 8, 4, \n",
    "          8, 8, 8, 8, 4, 8, 8, 3, 8, 4, 8, 8, \n",
    "          2, 8, 8, 8, 8, 8, 8, 4, 8, 8, 4,\n",
    "          8, 8, 8, 8, 4, 8, 8, 3, 8, 4, 8, 8, \n",
    "          1,\n",
    "          )\n",
    "\n",
    "def tone(pwm,note,duration):\n",
    "    if note>0:\n",
    "        pwm.freq(note)           \n",
    "        pwm.duty(512)\n",
    "    time.sleep_ms(duration)\n",
    "    pwm.deinit()\n",
    "    time.sleep_ms(int(duration/4))\n",
    "\n",
    "def music(pwm):\n",
    "    for i in range(0,len(note)):\n",
    "        d=int(1000/duration[i])\n",
    "        tone(pwm, note[i], d*2)\n",
    "        #p=int(d*1.3)\n",
    "        #time.sleep_ms(p)\n",
    "    time.sleep(1)\n",
    "\n",
    "pwm=PWM(Pin(4)) \n",
    "\n",
    "for i in range(1):\n",
    "    music(pwm)"
   ]
  },
  {
   "cell_type": "markdown",
   "metadata": {},
   "source": [
    "## 使用無線的方式連線\n",
    "\n",
    "- 當MicroPython硬體上電之後，會自動連上WiFi AP (先說明有連上的操作方式)\n",
    "- 這時可以在你的WiFi清單上看到如下的 WiFi SSID 名稱\n",
    "- ![wifi-id-ip](image/device-id-ip.png)\n",
    "- 名稱「upy_A5-73-08-00_192.168.43.245」代表的是「upy_id_ip」，因此確認手上的零件袋上的id，就可以知道板子被分配的IP\n",
    "- 請在browser上打上你的板子的IP，在網頁上點一下Led ON/OFF確認是否連到正確的板子\n",
    "- ![led-on-off](image/led-on-off.png)\n",
    "- 如果沒問題，我們就可以開始寫程式了!"
   ]
  },
  {
   "cell_type": "code",
   "execution_count": null,
   "metadata": {
    "collapsed": true
   },
   "outputs": [],
   "source": [
    "%websocketconnect"
   ]
  },
  {
   "cell_type": "code",
   "execution_count": null,
   "metadata": {},
   "outputs": [],
   "source": [
    "%websocketconnect --password 1234 ws://192.168.43.91:8266"
   ]
  },
  {
   "cell_type": "code",
   "execution_count": null,
   "metadata": {},
   "outputs": [],
   "source": [
    "print('hello esp8266 from websocket')"
   ]
  },
  {
   "cell_type": "code",
   "execution_count": null,
   "metadata": {},
   "outputs": [],
   "source": [
    "from machine import Pin\n",
    "import time\n",
    "\n",
    "p2 = Pin(2, Pin.OUT) #D4\n",
    "p2.value(1)\n",
    "for i in range(6):\n",
    "    p2.value(not p2.value())\n",
    "    time.sleep(1)"
   ]
  },
  {
   "cell_type": "code",
   "execution_count": null,
   "metadata": {
    "scrolled": true
   },
   "outputs": [],
   "source": [
    "# 暖暖，前半部\n",
    "\n",
    "from machine import Pin,PWM\n",
    "import time\n",
    "\n",
    "C4=262\n",
    "CS4=277\n",
    "D4=294\n",
    "DS4=311\n",
    "E4=330\n",
    "F4=349\n",
    "FS4=370\n",
    "G4=392\n",
    "GS4=415\n",
    "A4=440\n",
    "AS4=466\n",
    "B4=494\n",
    "C5=523\n",
    "#CS5=554\n",
    "D5=587\n",
    "#DS5=622\n",
    "E5=659\n",
    "F5=698\n",
    "#FS5=740\n",
    "G5=784\n",
    "#GS5=831\n",
    "A5=880\n",
    "#AS5=932\n",
    "B5=988\n",
    "\n",
    "note=(G4, C5, D5, D5, E5, E5, D5, E5, E5, \n",
    "      D5, E5, G5, E5, C5, C5, G4, A4, E5, D5, C5, D5,\n",
    "      E5, 0 , G4, C5, D5, D5, E5, E5, D5, E5, E5, \n",
    "      D5, E5, G5, E5, C5, C5, B4, A4, E5, D5, C5, D5, \n",
    "      C5,\n",
    "      )\n",
    "duration=(8, 8, 8, 8, 8, 4, 8, 8, 4, \n",
    "          8, 8, 8, 8, 4, 8, 8, 3, 8, 4, 8, 8, \n",
    "          2, 8, 8, 8, 8, 8, 8, 4, 8, 8, 4,\n",
    "          8, 8, 8, 8, 4, 8, 8, 3, 8, 4, 8, 8, \n",
    "          1,\n",
    "          )\n",
    "\n",
    "def tone(pwm,note,duration):\n",
    "    if note>0:\n",
    "        pwm.freq(note)           \n",
    "        pwm.duty(512)\n",
    "    time.sleep_ms(duration)\n",
    "    pwm.deinit()\n",
    "    time.sleep_ms(int(duration/4))\n",
    "\n",
    "def music(pwm):\n",
    "    for i in range(0,len(note)):\n",
    "        d=int(1000/duration[i])\n",
    "        tone(pwm, note[i], d*2)\n",
    "        #p=int(d*1.3)\n",
    "        #time.sleep_ms(p)\n",
    "    time.sleep(1)\n",
    "\n",
    "pwm=PWM(Pin(4)) \n",
    "\n",
    "for i in range(1):\n",
    "    music(pwm)"
   ]
  },
  {
   "cell_type": "markdown",
   "metadata": {},
   "source": [
    "## 如何修改要連線的AP\n",
    "\n",
    "- 如果沒有經由WiFi AP連到MicroPython，而是直接連到MicroPython的WiFi (如：upy_01-02-03-04_192.168.43.11)，這時：\n",
    "    - WiFi密碼預設為 12345678\n",
    "    - MicroPython的IP為 192.168.4.1\n",
    "    - 因此連線的magic command為 `%websocketconnect --password 1234 ws://192.168.4.1:8266`"
   ]
  },
  {
   "cell_type": "code",
   "execution_count": null,
   "metadata": {},
   "outputs": [],
   "source": [
    "%websocketconnect --password 1234 ws://192.168.43.245:8266"
   ]
  },
  {
   "cell_type": "code",
   "execution_count": null,
   "metadata": {
    "collapsed": true
   },
   "outputs": [],
   "source": [
    "ap_config_fn = 'ap.txt'"
   ]
  },
  {
   "cell_type": "code",
   "execution_count": null,
   "metadata": {
    "collapsed": true
   },
   "outputs": [],
   "source": [
    "AP_SSID = 'khpy'\n",
    "AP_PWD = '12345678'\n",
    "with open(ap_config_fn, 'w') as f:\n",
    "    f.write(AP_SSID+'\\n')\n",
    "    f.write(AP_PWD+'\\n')"
   ]
  },
  {
   "cell_type": "code",
   "execution_count": null,
   "metadata": {
    "scrolled": true
   },
   "outputs": [],
   "source": [
    "ap_config = None\n",
    "\n",
    "print('ap config here!')\n",
    "with open(ap_config_fn, 'r') as f:\n",
    "    ap_config = f.read()\n",
    "\n",
    "print(ap_config)\n",
    "ap_config = ap_config.split('\\n')\n",
    "AP_SSID = ap_config[0].strip()\n",
    "AP_PWD = ap_config[1].strip()\n",
    "print(ap_config)"
   ]
  }
 ],
 "metadata": {
  "kernelspec": {
   "display_name": "MicroPython - USB",
   "language": "micropython",
   "name": "micropython"
  },
  "language_info": {
   "codemirror_mode": "python",
   "file_extension": ".py",
   "mimetype": "text/python",
   "name": "micropython"
  }
 },
 "nbformat": 4,
 "nbformat_minor": 2
}
