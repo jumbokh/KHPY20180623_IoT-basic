{
 "cells": [
  {
   "cell_type": "markdown",
   "metadata": {},
   "source": [
    "# IOT Basic Tutorial\n",
    "\n",
    "## 課程目標\n",
    "\n",
    "希望大家可以透過課程學到：\n",
    "- MicroPython的硬體基本知識\n",
    "- 使用Python做基本的IOT應用\n",
    "- 把sensor資料送上雲端，並用手機監控(Android)\n",
    "- MicroPython硬體結合Line的應用\n",
    "- MicroPython單晶片的環境下建立網頁\n",
    "\n",
    "\n",
    "## 課前提醒事項\n",
    "- 上課學員需自備筆電\n",
    "- 硬體將於上課時發放，學員不需要自行準備\n",
    "- 建議在課前先在電腦安裝Anaconda、VSCode\n",
    "\n",
    "\n",
    "## 本課程適合對象\n",
    "- 至少會安裝Python，並用Python執行\"Hello World!\"程式\n",
    "- 已經稍微了解 Python 的基本語法，想要進一步了解如何用Python和單晶片硬體互動者\n",
    "- 對Python在IOT的應用有興趣者\n",
    "- 對基本語法還不夠熟的朋友，可以先參考：https://github.com/victorgau/Python_Basics\n",
    "\n",
    "\n",
    "## 課程大綱\n",
    "\n",
    "- 簡介 (10分鐘)  \n",
    "    - 說明課程含蓋的主題\n",
    "    - 說明一下硬體背景\n",
    "\n",
    "- MicroPython Basic (50分鐘)\n",
    "    - 連線方式、腳位說明\n",
    "    - 以開關Led為demo\n",
    "\n",
    "- 蜂鳴器 (Buzzer, 無源) (45分鐘 = 15 + 30)\n",
    "    - 基本Do, Re, Mi\n",
    "    - 練習寫歌 (小星星、小蜜蜂)\n",
    "\n",
    "- 練習、休息 (15分鐘)\n",
    "\n",
    "- 溫溼度感測器 (50分鐘)\n",
    "    - 基本量測練習 (10分鐘)\n",
    "    - 溫度鴨實作 (溫度感測器+蜂鳴器) (40分鐘)\n",
    "    ![溫度鴨](https://s.yimg.com/ut/api/res/1.2/kpDKLsamvN5nuUvAiaFXsg--~B/YXBwaWQ9eXR3bWFsbDtjYz0zMTUzNjAwMDtoPTYwMDtxPTgxO3c9NjAw/https://s.yimg.com/sw/ps_image_prod/item/p09073350080-item-1515xf3x0270x0270-m.jpg)\n",
    "\n",
    "- ----中餐 12:00~13:00 ----\n",
    "- ----下午課程----\n",
    "\n",
    "- 上雲端 (80分鐘) (10 + 20 + 20 + 20 + 10)\n",
    "    - 雲端介紹(MQTT)\n",
    "    - 手機設定方式(先讓學員連講師的資料)\n",
    "    - 溫溼度資訊上雲端\n",
    "    - 手機控制Led\n",
    "    - 手機加入自己的點位\n",
    "\n",
    "- 休息 (10分鐘)\n",
    "   \n",
    "- 溫度警報器 (line訊息警報) (50分鐘)\n",
    "    - line 訊息機制說明\n",
    "    - line警報訊息實作\n",
    "    - (講師先架好一個jupyter3的環境給學員用比較保險，如果學員已有灌anaconda更好)\n",
    "\n",
    "- 網頁實作 (40分鐘)\n",
    "    - 單晶片也可以當web server\n",
    "    - 練習題：製作網頁顯示溫溼度資訊\n",
    "    - 練習題：製作網頁控制蜂鳴器發聲\n"
   ]
  },
  {
   "cell_type": "markdown",
   "metadata": {},
   "source": [
    "----\n",
    "### 備用教材\n",
    "- 雲端控制實作 (50min)\n",
    "    - 使用IFTTT實作連動控制\n",
    "\n",
    "- 智慧居家 (50min = 10+10+30)\n",
    "    - 紅外線原理說明\n",
    "    - 控制冷氣demo\n",
    "    - 溫度連動冷氣練習\n",
    "----    "
   ]
  },
  {
   "cell_type": "markdown",
   "metadata": {},
   "source": [
    "## MicroPython Basic\n",
    "- 小車介紹：https://github.com/maloyang/upy-webcar\n",
    "- 操作介面說明：https://github.com/maloyang/uPy-webtool\n",
    "- Led控制\n",
    "- 迴圈語法複習"
   ]
  },
  {
   "cell_type": "code",
   "execution_count": null,
   "metadata": {
    "collapsed": true
   },
   "outputs": [],
   "source": [
    "# 控制板子上的Led燈\n",
    "import machine\n",
    "import time\n",
    "\n",
    "p = machine.Pin(2, machine.Pin.OUT) #D4\n",
    "\n",
    "for i in range(6):\n",
    "    p.value(not p.value())\n",
    "    time.sleep(1)"
   ]
  },
  {
   "cell_type": "code",
   "execution_count": null,
   "metadata": {
    "collapsed": true
   },
   "outputs": [],
   "source": [
    "# 換個寫法\n",
    "from machine import Pin, Signal\n",
    "import time\n",
    "\n",
    "p2 = Pin(2, Pin.OUT) #D4\n",
    "\n",
    "for i in range(6):\n",
    "    p2.value(not p2.value())\n",
    "    time.sleep(1)"
   ]
  },
  {
   "cell_type": "markdown",
   "metadata": {},
   "source": [
    "- 練習讓Led一秒閃二下\n",
    "- 練習讓Led用心跳的方式閃動"
   ]
  },
  {
   "cell_type": "code",
   "execution_count": null,
   "metadata": {
    "collapsed": true
   },
   "outputs": [],
   "source": [
    "#TODO:"
   ]
  },
  {
   "cell_type": "markdown",
   "metadata": {},
   "source": [
    "## 蜂鳴器\n",
    "\n",
    "- 有源 vs 無源? (active vs passive)\n",
    "- 本課程使用的為「無源蜂鳴器」 (passive buzzer)\n",
    "\n",
    "- 無源用uPython寫歌： http://yhhuang1966.blogspot.tw/2017/07/micropython-on-esp8266_30.html\n"
   ]
  },
  {
   "cell_type": "code",
   "execution_count": null,
   "metadata": {
    "collapsed": true
   },
   "outputs": [],
   "source": [
    "# testing\n",
    "# 無源3pin較大聲，但有的音階較小\n",
    "# 無源2pin聲音較小，但較平均\n",
    "\n",
    "from machine import Pin, PWM\n",
    "import time\n",
    "tempo = 5\n",
    "tones = {\n",
    "    'c': 262,\n",
    "    'd': 294,\n",
    "    'e': 330,\n",
    "    'f': 349,\n",
    "    'g': 392,\n",
    "    'a': 440,\n",
    "    'b': 494,\n",
    "    'C': 523,\n",
    "    ' ': 0,\n",
    "}\n",
    "beeper = PWM(Pin(4, Pin.OUT), freq=440, duty=512) #D2\n",
    "melody = 'cdefgabC '\n",
    "rhythm = [8, 8, 8, 8, 8, 8, 8, 8, 8]\n",
    "\n",
    "for tone, length in zip(melody, rhythm):\n",
    "    beeper.freq(tones[tone])\n",
    "    time.sleep(tempo/length)\n",
    "beeper.deinit()\n"
   ]
  },
  {
   "cell_type": "markdown",
   "metadata": {},
   "source": [
    "- 練習編一首歌，如：小星星\n",
    "- 第一個編出來整首歌的，送一個小車禮物\n",
    "\n",
    "*** ESP8266 的 PWM 最高只能到 1000 Hz, C6 (1046 Hz) 以上的聲音是無法發出來的"
   ]
  },
  {
   "cell_type": "code",
   "execution_count": null,
   "metadata": {
    "collapsed": true
   },
   "outputs": [],
   "source": [
    "# 小星星範例練習\n"
   ]
  },
  {
   "cell_type": "code",
   "execution_count": null,
   "metadata": {
    "collapsed": true
   },
   "outputs": [],
   "source": [
    "#main.py or myapp.py\n",
    "from machine import Pin,PWM\n",
    "import time\n",
    "\n",
    "def alarmBeep(beeper):\n",
    "    beeper.freq(1000)   \n",
    "    beeper.duty(512)\n",
    "    time.sleep(1)\n",
    "    beeper.deinit()\n",
    "    time.sleep(2)\n",
    "\n",
    "beeper=PWM(Pin(4)) \n",
    "\n",
    "for i in range(4):\n",
    "    alarmBeep(beeper)"
   ]
  },
  {
   "cell_type": "code",
   "execution_count": null,
   "metadata": {
    "collapsed": true
   },
   "outputs": [],
   "source": [
    "# 電話鈴聲\n",
    "\n",
    "from machine import Pin,PWM\n",
    "import time\n",
    "\n",
    "def ringTone(pwm):\n",
    "    for i in range(1,11):\n",
    "        pwm.freq(1000)\n",
    "        pwm.duty(512)\n",
    "        time.sleep_ms(50)\n",
    "        pwm.freq(500)\n",
    "        time.sleep_ms(50)\n",
    "    pwm.deinit()\n",
    "    time.sleep(2)\n",
    "\n",
    "pwm=PWM(Pin(0))#pwm=PWM(Pin(4))\n",
    "\n",
    "for i in range(4):\n",
    "    ringTone(pwm)"
   ]
  },
  {
   "cell_type": "code",
   "execution_count": null,
   "metadata": {
    "collapsed": true
   },
   "outputs": [],
   "source": [
    "# 救護車\n",
    "\n",
    "from machine import Pin,PWM\n",
    "import time\n",
    "\n",
    "def ambulenceSiren(pwm):\n",
    "    pwm.freq(400)           \n",
    "    pwm.duty(512)\n",
    "    time.sleep_ms(500)\n",
    "    pwm.freq(800)\n",
    "    time.sleep_ms(500)\n",
    "    pwm.deinit()\n",
    "\n",
    "pwm=PWM(Pin(4)) \n",
    "\n",
    "for i in range(4):\n",
    "    ambulenceSiren(pwm)"
   ]
  },
  {
   "cell_type": "code",
   "execution_count": null,
   "metadata": {
    "collapsed": true
   },
   "outputs": [],
   "source": [
    "# 小蜜蜂\n",
    "\n",
    "from machine import Pin,PWM\n",
    "import time\n",
    "\n",
    "C4=262\n",
    "CS4=277\n",
    "D4=294\n",
    "DS4=311\n",
    "E4=330\n",
    "F4=349\n",
    "FS4=370\n",
    "G4=392\n",
    "GS4=415\n",
    "A4=440\n",
    "AS4=466\n",
    "B4=494\n",
    "C5=523\n",
    "CS5=554\n",
    "D5=587\n",
    "DS5=622\n",
    "E5=659\n",
    "F5=698\n",
    "FS5=740\n",
    "G5=784\n",
    "GS5=831\n",
    "A5=880\n",
    "AS5=932\n",
    "B5=988\n",
    "\n",
    "note=(G5, E5, E5, 0, F5, D5, D5, 0, C5, D5, E5, F5, G5, G5, G5, 0,\n",
    "      G5, E5, E5, 0, F5, D5, D5, 0, C5, E5, G5, G5, E5, 0, 0, 0,\n",
    "      D5, D5, D5, D5, D5, E5, F5, 0, E5, E5, E5, E5, E5, F5, G5, 0,\n",
    "      G5, E5, E5, 0, F5, D5, D5, 0, C5, E5, G5, G5, C5, 0, 0, 0)\n",
    "duration=(4, 4, 4, 4, 4, 4, 4, 4, 4, 4, 4, 4, 4, 4, 4, 4,\n",
    "          4, 4, 4, 4, 4, 4, 4, 4, 4, 4, 4, 4, 4, 4, 4, 4,\n",
    "          4, 4, 4, 4, 4, 4, 4, 4, 4, 4, 4, 4, 4, 4, 4, 4,\n",
    "          4, 4, 4, 4, 4, 4, 4, 4, 4, 4, 4, 4, 4, 4, 4, 4)\n",
    "\n",
    "def tone(pwm,note,duration):\n",
    "    if note>0:\n",
    "        pwm.freq(note)           \n",
    "        pwm.duty(512)\n",
    "    time.sleep_ms(duration)\n",
    "    pwm.deinit()\n",
    "    time.sleep_ms(int(duration/4))\n",
    "\n",
    "def littleBee(pwm):\n",
    "    for i in range(0,len(note)):\n",
    "        d=int(1000/duration[i])\n",
    "        tone(pwm, note[i], d)\n",
    "        #p=int(d*1.3)\n",
    "        #time.sleep_ms(p)\n",
    "    time.sleep(1)\n",
    "\n",
    "pwm=PWM(Pin(4)) \n",
    "\n",
    "for i in range(1):\n",
    "    littleBee(pwm)"
   ]
  },
  {
   "cell_type": "code",
   "execution_count": null,
   "metadata": {
    "collapsed": true
   },
   "outputs": [],
   "source": [
    "# 小星星\n",
    "from machine import Pin,PWM\n",
    "import time\n",
    "\n",
    "C4=262\n",
    "CS4=277\n",
    "D4=294\n",
    "DS4=311\n",
    "E4=330\n",
    "F4=349\n",
    "FS4=370\n",
    "G4=392\n",
    "GS4=415\n",
    "A4=440\n",
    "AS4=466\n",
    "B4=494\n",
    "C5=523\n",
    "#CS5=554\n",
    "D5=587\n",
    "#DS5=622\n",
    "E5=659\n",
    "F5=698\n",
    "#FS5=740\n",
    "G5=784\n",
    "#GS5=831\n",
    "A5=880\n",
    "#AS5=932\n",
    "B5=988\n",
    "\n",
    "note=(C5, C5, G5, G5, A5, A5, G5, 0, F5, F5, E5, E5, D5, D5, C5, 0,\n",
    "      G5, G5, F5, F5, E5, E5, D5, 0, G5, G5, F5, F5, E5, E5, D5, 0,\n",
    "      C5, C5, G5, G5, A5, A5, G5, 0, F5, F5, E5, E5, D5, D5, C5, 0,\n",
    "      )\n",
    "duration=(4, 4, 4, 4, 4, 4, 4, 4, 4, 4, 4, 4, 4, 4, 4, 4,\n",
    "          4, 4, 4, 4, 4, 4, 4, 4, 4, 4, 4, 4, 4, 4, 4, 4,\n",
    "          4, 4, 4, 4, 4, 4, 4, 4, 4, 4, 4, 4, 4, 4, 4, 4,\n",
    "          )\n",
    "\n",
    "def tone(pwm,note,duration):\n",
    "    if note>0:\n",
    "        pwm.freq(note)           \n",
    "        pwm.duty(512)\n",
    "    time.sleep_ms(duration)\n",
    "    pwm.deinit()\n",
    "    time.sleep_ms(int(duration/4))\n",
    "\n",
    "def music(pwm):\n",
    "    for i in range(0,len(note)):\n",
    "        d=int(1000/duration[i])\n",
    "        tone(pwm, note[i], d)\n",
    "        #p=int(d*1.3)\n",
    "        #time.sleep_ms(p)\n",
    "    time.sleep(1)\n",
    "\n",
    "pwm=PWM(Pin(4)) \n",
    "\n",
    "for i in range(1):\n",
    "    music(pwm)"
   ]
  },
  {
   "cell_type": "code",
   "execution_count": null,
   "metadata": {
    "collapsed": true
   },
   "outputs": [],
   "source": [
    "# 暖暖，前半部\n",
    "\n",
    "from machine import Pin,PWM\n",
    "import time\n",
    "\n",
    "C4=262\n",
    "CS4=277\n",
    "D4=294\n",
    "DS4=311\n",
    "E4=330\n",
    "F4=349\n",
    "FS4=370\n",
    "G4=392\n",
    "GS4=415\n",
    "A4=440\n",
    "AS4=466\n",
    "B4=494\n",
    "C5=523\n",
    "#CS5=554\n",
    "D5=587\n",
    "#DS5=622\n",
    "E5=659\n",
    "F5=698\n",
    "#FS5=740\n",
    "G5=784\n",
    "#GS5=831\n",
    "A5=880\n",
    "#AS5=932\n",
    "B5=988\n",
    "\n",
    "note=(G4, C5, D5, D5, E5, E5, D5, E5, E5, \n",
    "      D5, E5, G5, E5, C5, C5, G4, A4, E5, D5, C5, D5,\n",
    "      E5, 0 , G4, C5, D5, D5, E5, E5, D5, E5, E5, \n",
    "      D5, E5, G5, E5, C5, C5, B4, A4, E5, D5, C5, D5, \n",
    "      C5,\n",
    "      )\n",
    "duration=(8, 8, 8, 8, 8, 4, 8, 8, 4, \n",
    "          8, 8, 8, 8, 4, 8, 8, 3, 8, 4, 8, 8, \n",
    "          2, 8, 8, 8, 8, 8, 8, 4, 8, 8, 4,\n",
    "          8, 8, 8, 8, 4, 8, 8, 3, 8, 4, 8, 8, \n",
    "          1,\n",
    "          )\n",
    "\n",
    "def tone(pwm,note,duration):\n",
    "    if note>0:\n",
    "        pwm.freq(note)           \n",
    "        pwm.duty(512)\n",
    "    time.sleep_ms(duration)\n",
    "    pwm.deinit()\n",
    "    time.sleep_ms(int(duration/4))\n",
    "\n",
    "def music(pwm):\n",
    "    for i in range(0,len(note)):\n",
    "        d=int(1000/duration[i])\n",
    "        tone(pwm, note[i], d*2)\n",
    "        #p=int(d*1.3)\n",
    "        #time.sleep_ms(p)\n",
    "    time.sleep(1)\n",
    "\n",
    "pwm=PWM(Pin(4)) \n",
    "\n",
    "for i in range(1):\n",
    "    music(pwm)"
   ]
  },
  {
   "cell_type": "code",
   "execution_count": null,
   "metadata": {
    "collapsed": true
   },
   "outputs": [],
   "source": [
    "# 小幸運，前半部\n",
    "\n",
    "\n",
    "from machine import Pin,PWM\n",
    "import time\n",
    "\n",
    "C4=262\n",
    "CS4=277\n",
    "D4=294\n",
    "DS4=311\n",
    "E4=330\n",
    "F4=349\n",
    "FS4=370\n",
    "G4=392\n",
    "GS4=415\n",
    "A4=440\n",
    "AS4=466\n",
    "B4=494\n",
    "C5=523\n",
    "CS5=554\n",
    "D5=587\n",
    "DS5=622\n",
    "E5=659\n",
    "F5=698\n",
    "FS5=740\n",
    "G5=784\n",
    "GS5=831\n",
    "A5=880\n",
    "AS5=932\n",
    "B5=988\n",
    "\n",
    "note=(E4, E4, G4, G4, C5, C5, B4, B4, A4, E4, A4, \n",
    "       0, A4, A4, B4, B4, E5, E5, B4, B4, G4, E4, G4,\n",
    "       0, E4, E4, G4, G4, C5, C5, B4, B4, A4, E4, A4, A4, B4,\n",
    "       0,AS4, B4, E5, D5, C5, \n",
    "      )\n",
    "duration=(8, 8, 8, 8, 8, 8, 8, 8, 8, 8, 2,\n",
    "          8, 8, 8, 8, 8, 8, 8, 8, 8, 8, 8, 2,\n",
    "          8, 8, 8, 8, 8, 8, 8, 8, 8, 8, 8, 8, 3, 8, 8,\n",
    "          8, 8, 8, 4, 4, 1,\n",
    "          )\n",
    "\n",
    "def tone(pwm,note,duration):\n",
    "    if note>0:\n",
    "        pwm.freq(note)           \n",
    "        pwm.duty(512)\n",
    "    time.sleep_ms(duration)\n",
    "    pwm.deinit()\n",
    "    time.sleep_ms(int(duration/4))\n",
    "\n",
    "def music(pwm):\n",
    "    for i in range(0,len(note)):\n",
    "        d=int(1000/duration[i])\n",
    "        tone(pwm, note[i], d*2)\n",
    "        #p=int(d*1.3)\n",
    "        #time.sleep_ms(p)\n",
    "    time.sleep(1)\n",
    "\n",
    "pwm=PWM(Pin(4)) \n",
    "\n",
    "for i in range(1):\n",
    "    music(pwm)"
   ]
  },
  {
   "cell_type": "markdown",
   "metadata": {},
   "source": [
    "## 溫溼度感測器\n",
    "\n",
    "- 外觀如圖所示\n",
    "- ![圖片](image/DHT-11.png)\n",
    "- [說明原理](ref/DHT11.pdf) [(中文)](ref/DHT11-chinese.pdf)\n",
    "- demo\n",
    "- 練習"
   ]
  },
  {
   "cell_type": "code",
   "execution_count": null,
   "metadata": {
    "collapsed": true
   },
   "outputs": [],
   "source": [
    "# upy to read temperature, humidity\n",
    "\n",
    "import dht\n",
    "from machine import Pin\n",
    "\n",
    "d = dht.DHT11(Pin(0)) #D3\n",
    "d.measure()\n",
    "T = d.temperature() # eg. 23 (℃)\n",
    "H = d.humidity()    # eg. 41 (% RH)\n",
    "print(\"T=%s, H=%s\" %(T, H))\n"
   ]
  },
  {
   "cell_type": "markdown",
   "metadata": {},
   "source": [
    "### 練習題：溫度超過32度，亮起Led燈"
   ]
  },
  {
   "cell_type": "code",
   "execution_count": 1,
   "metadata": {
    "collapsed": true
   },
   "outputs": [],
   "source": [
    "# TODO:"
   ]
  },
  {
   "cell_type": "code",
   "execution_count": null,
   "metadata": {
    "collapsed": true
   },
   "outputs": [],
   "source": [
    "# 示範解題\n",
    "import dht\n",
    "from machine import Pin\n",
    "\n",
    "d = dht.DHT11(Pin(0)) #D3\n",
    "led = Pin(2, Pin.OUT) #D4\n",
    "\n",
    "while(True):\n",
    "    d.measure()\n",
    "    T = d.temperature() # eg. 23 (℃)\n",
    "    H = d.humidity()    # eg. 41 (% RH)\n",
    "    print(\"T=%s, H=%s\" %(T, H))\n",
    "    if T>=32:\n",
    "        led.value(0) #ON\n",
    "    else:\n",
    "        led.value(1) #OFF"
   ]
  },
  {
   "cell_type": "markdown",
   "metadata": {},
   "source": [
    "### 練習題：溫度鴨實作 (溫度感測器+蜂鳴器)\n",
    "- 溫度過高時，讓蜂鳴器鳴叫"
   ]
  },
  {
   "cell_type": "code",
   "execution_count": null,
   "metadata": {
    "collapsed": true
   },
   "outputs": [],
   "source": [
    "# TODO:"
   ]
  },
  {
   "cell_type": "code",
   "execution_count": null,
   "metadata": {
    "collapsed": true
   },
   "outputs": [],
   "source": [
    "# 示範解題\n",
    "import dht\n",
    "from machine import Pin\n",
    "\n",
    "d = dht.DHT11(Pin(0)) #D3\n",
    "\n",
    "while(True):\n",
    "    d.measure()\n",
    "    T = d.temperature() # eg. 23 (℃)\n",
    "    H = d.humidity()    # eg. 41 (% RH)\n",
    "    print(\"T=%s, H=%s\" %(T, H))\n",
    "    if T>=32:\n",
    "        beeper = PWM(Pin(4, Pin.OUT), freq=262, duty=512)\n",
    "        time.sleep(0.2)\n",
    "        beeper.freq(523)\n",
    "        time.sleep(0.2)\n",
    "        beeper.deinit()"
   ]
  },
  {
   "cell_type": "markdown",
   "metadata": {},
   "source": [
    "### ==== 下午課程 ===="
   ]
  },
  {
   "cell_type": "markdown",
   "metadata": {},
   "source": [
    "## 雲端應用教學\n",
    "- line\n",
    "- ThingSpeak\n",
    "- MQTT"
   ]
  },
  {
   "cell_type": "markdown",
   "metadata": {},
   "source": [
    "----\n",
    "## 雲端應用 - line平台溫度警報器\n",
    "\n",
    "- line 訊息機制說明\n",
    "- 請大家加入本課程的[demo group](http://line.me/R/ti/g/7qsbO8JCB5)\n",
    "    - ![KHPY IOT Class](image/KHPY-IOT-class-barcode.jpg)\n",
    "- line警報訊息實作\n",
    "    - 使用「KHPY課程群組」試著發訊息\n",
    "    - 請學員申請自己的line群組token，或自己的token也行\n",
    "    - 申請連結：https://notify-bot.line.me/my/"
   ]
  },
  {
   "cell_type": "markdown",
   "metadata": {},
   "source": [
    "#### 以micropython來發line訊息"
   ]
  },
  {
   "cell_type": "code",
   "execution_count": null,
   "metadata": {
    "collapsed": true
   },
   "outputs": [],
   "source": [
    "# EX: https://khpy-line.herokuapp.com/line?token=YEdh1qqHa5eXNTNsPGvJKSvVR1AXrkOuw9blRWPmUCP&message=hi\n",
    "import urequests\n",
    "\n",
    "url = \"https://khpy-line.herokuapp.com/line\"\n",
    "token = 'YEdh1qqHa5eXNTNsPGvJKSvVR1AXrkOuw9blRWPmUCP'\n",
    "\n",
    "message =  'KHPY so nice'\n",
    "message = message.replace(' ', '%20')\n",
    "payload = {'token':token, \"message\":message}\n",
    "\n",
    "#r = urequests.post(url, params=payload) # urequests do not has 'params'\n",
    "r = urequests.post(url+'?'+'token='+token+'&message='+message)\n",
    "print('result: ', r.content)\n",
    "r.close()"
   ]
  },
  {
   "cell_type": "code",
   "execution_count": null,
   "metadata": {
    "collapsed": true
   },
   "outputs": [],
   "source": [
    "import urequests\n",
    "\n",
    "url = \"http://khpy-line.herokuapp.com/line2\"\n",
    "token = 'YEdh1qqHa5eXNTNsPGvJKSvVR1AXrkOuw9blRWPmUCP'\n",
    "\n",
    "message =  'KHPY so nice...'\n",
    "payload = {'token':token, \"message\":message}\n",
    "\n",
    "r = urequests.post(url, json=payload) #not real json data to server, it use 'data'\n",
    "print('result: ', r.content)\n",
    "r.close()"
   ]
  },
  {
   "cell_type": "markdown",
   "metadata": {},
   "source": [
    "### line notify申請方式\n",
    "- 請先連至[申請頁面](https://notify-bot.line.me/my/)\n",
    "- 填入個人帳密登入\n",
    "- ![登入頁面](image/line-notify0.png)\n",
    "- 登入後，請點選頁面最下方的「發行權杖」\n",
    "- ![發行權杖](image/line-notify.png)\n",
    "- 選擇群組，以發行權杖\n",
    "- ![選擇群組](image/line-notify2.png)\n",
    "- 點選下方的完成鍵後，可以得到權杖如下，請複製起來，供實作時使用\n",
    "- ![權杖](image/line-notify3.png)\n",
    "- 請把「LINE Notify」加入你的群組中，這樣我們才能使用權杖(token)讓它發出訊息\n",
    "- ![加入群組](image/line-notify4.png)"
   ]
  },
  {
   "cell_type": "markdown",
   "metadata": {},
   "source": [
    "### 練習題：當溫度超過30度時，發出警告訊息"
   ]
  },
  {
   "cell_type": "code",
   "execution_count": null,
   "metadata": {
    "collapsed": true
   },
   "outputs": [],
   "source": [
    "# TODO:\n"
   ]
  },
  {
   "cell_type": "code",
   "execution_count": null,
   "metadata": {
    "collapsed": true
   },
   "outputs": [],
   "source": [
    "# 示範解題\n",
    "import dht\n",
    "from machine import Pin\n",
    "import urequests\n",
    "import time\n",
    "\n",
    "def send_line(token = 'YEdh1qqHa5eXNTNsPGvJKSvVR1AXrkOuw9blRWPmUCP', message =  'KHPY so nice...'):\n",
    "    url = \"http://khpy-line.herokuapp.com/line2\"\n",
    "    payload = {'token':token, \"message\":message}\n",
    "    r = urequests.post(url, json=payload) #not real json data to server, it use 'data'\n",
    "    print('result: ', r.content)\n",
    "    r.close()\n",
    "\n",
    "\n",
    "d = dht.DHT11(Pin(0)) #D3\n",
    "\n",
    "while(True):\n",
    "    d.measure()\n",
    "    T = d.temperature() # eg. 23 (℃)\n",
    "    H = d.humidity()    # eg. 41 (% RH)\n",
    "    print(\"T=%s, H=%s\" %(T, H))\n",
    "    if T>=32:\n",
    "        send_line(message='temperature high alarm!! (%d)' %(T))\n",
    "        time.sleep(5)"
   ]
  },
  {
   "cell_type": "markdown",
   "metadata": {},
   "source": [
    "### Line 補充教材"
   ]
  },
  {
   "cell_type": "markdown",
   "metadata": {},
   "source": [
    "- 使用Python發訊息"
   ]
  },
  {
   "cell_type": "code",
   "execution_count": 2,
   "metadata": {},
   "outputs": [
    {
     "data": {
      "text/plain": [
       "<Response [405]>"
      ]
     },
     "execution_count": 2,
     "metadata": {},
     "output_type": "execute_result"
    }
   ],
   "source": [
    "# [KHPY-IOT課程]的token:  YEdh1qqHa5eXNTNsPGvJKSvVR1AXrkOuw9blRWPmUCP\n",
    "# 由：https://notify-bot.line.me/my/ 取得\n",
    "\n",
    "import requests\n",
    "\n",
    "url = \"http://notify-api.line.me/api/notify\"  # --> 不支援http, 只能用https\n",
    "token = 'YEdh1qqHa5eXNTNsPGvJKSvVR1AXrkOuw9blRWPmUCP'\n",
    "headers = {\"Authorization\" : \"Bearer \"+ token}\n",
    "\n",
    "message =  'IOT課程好棒'\n",
    "payload = {\"message\" :  message}\n",
    "\n",
    "r = requests.post(url ,headers = headers ,params=payload)\n",
    "r"
   ]
  },
  {
   "cell_type": "code",
   "execution_count": 3,
   "metadata": {
    "collapsed": true
   },
   "outputs": [],
   "source": [
    "# 經由heroku webapi發line notify\n",
    "# --> 用web browser: https://icpdas-webapi.herokuapp.com/line?token=YEdh1qqHa5eXNTNsPGvJKSvVR1AXrkOuw9blRWPmUCP&message=KHPy so nice\n",
    "\n",
    "# [KHPY-IOT課程]的token:  YEdh1qqHa5eXNTNsPGvJKSvVR1AXrkOuw9blRWPmUCP\n",
    "# 由：https://notify-bot.line.me/my/ 取得\n",
    "\n",
    "import requests\n",
    "\n",
    "url = \"http://icpdas-webapi.herokuapp.com/line\"\n",
    "token = 'YEdh1qqHa5eXNTNsPGvJKSvVR1AXrkOuw9blRWPmUCP'\n",
    "\n",
    "message =  'KHPY is so nice'\n",
    "payload = {'token':token, \"message\":message}\n",
    "\n",
    "r = requests.post(url, params=payload)\n"
   ]
  },
  {
   "cell_type": "markdown",
   "metadata": {},
   "source": [
    "- 使用khpy-line的webapi發訊息"
   ]
  },
  {
   "cell_type": "code",
   "execution_count": 10,
   "metadata": {},
   "outputs": [
    {
     "data": {
      "text/plain": [
       "<Response [200]>"
      ]
     },
     "execution_count": 10,
     "metadata": {},
     "output_type": "execute_result"
    }
   ],
   "source": [
    "import requests\n",
    "\n",
    "url = \"http://khpy-line.herokuapp.com/line\"\n",
    "token = 'YEdh1qqHa5eXNTNsPGvJKSvVR1AXrkOuw9blRWPmUCP'\n",
    "\n",
    "message =  'kypy so nice'\n",
    "payload = {'token':token, \"message\":message}\n",
    "\n",
    "r = requests.post(url ,headers = headers ,params=payload)\n",
    "r"
   ]
  },
  {
   "cell_type": "code",
   "execution_count": 11,
   "metadata": {},
   "outputs": [
    {
     "data": {
      "text/plain": [
       "<Response [200]>"
      ]
     },
     "execution_count": 11,
     "metadata": {},
     "output_type": "execute_result"
    }
   ],
   "source": [
    "# just test result\n",
    "import requests\n",
    "\n",
    "url = \"http://khpy-line.herokuapp.com/test1\"\n",
    "token = 'YEdh1qqHa5eXNTNsPGvJKSvVR1AXrkOuw9blRWPmUCP'\n",
    "\n",
    "message =  'kypy so nice'\n",
    "payload = {'token':token, \"message\":message}\n",
    "data = {'aaa':111, 'bbb':222}\n",
    "'''\n",
    "--.data--\n",
    "b''\n",
    "--.form--\n",
    "ImmutableMultiDict([('aaa', '111'), ('bbb', '222')])\n",
    "--.args--\n",
    "{'message': 'kypy so nice',\n",
    "'token': 'YEdh1qqHa5eXNTNsPGvJKSvVR1AXrkOuw9blRWPmUCP'}\n",
    "'''\n",
    "r = requests.post(url ,headers = headers ,params=payload, data=data)\n",
    "r"
   ]
  },
  {
   "cell_type": "markdown",
   "metadata": {},
   "source": [
    "----\n",
    "### 雲端應用 - ThingSpeak"
   ]
  },
  {
   "cell_type": "markdown",
   "metadata": {},
   "source": [
    "- 把溫溼度資訊送上ThingSpeak"
   ]
  },
  {
   "cell_type": "code",
   "execution_count": null,
   "metadata": {
    "collapsed": true
   },
   "outputs": [],
   "source": [
    "# TODO"
   ]
  },
  {
   "cell_type": "code",
   "execution_count": null,
   "metadata": {
    "collapsed": true
   },
   "outputs": [],
   "source": [
    "# EX: https://khpy-line.herokuapp.com/line?token=YEdh1qqHa5eXNTNsPGvJKSvVR1AXrkOuw9blRWPmUCP&message=hi\n",
    "import urequests\n",
    "import dht\n",
    "from machine import Pin\n",
    "\n",
    "url = \"http://api.thingspeak.com/update?api_key=TWB7BD496GOYPGM1&field1=25&field2=65\"\n",
    "api_key = 'TWB7BD496GOYPGM1'\n",
    "field1 = 20 #T\n",
    "field2 = 60 #H\n",
    "\n",
    "\n",
    "d = dht.DHT11(Pin(0)) #D3\n",
    "\n",
    "d.measure()\n",
    "T = d.temperature() # eg. 23 (℃)\n",
    "H = d.humidity()    # eg. 41 (% RH)\n",
    "print(\"T=%s, H=%s\" %(T, H))\n",
    "\n",
    "url_update = 'http://api.thingspeak.com/update?api_key='+api_key+'&field1='+str(T)+'&field2='+str(H)\n",
    "r = urequests.post(url_update)\n",
    "print('result: ', r.content)\n",
    "r.close()\n"
   ]
  },
  {
   "cell_type": "code",
   "execution_count": null,
   "metadata": {
    "collapsed": true
   },
   "outputs": [],
   "source": [
    "# TODO: 改為每1分鐘上傳一筆資料 (thingspeak無法接受小於30秒的時間間隔)"
   ]
  },
  {
   "cell_type": "markdown",
   "metadata": {},
   "source": [
    "----\n",
    "### 雲端應用 - MQTT\n",
    "- MQTT介紹\n",
    "- 手機設定方式(請學員先連講師的demo資料)\n",
    "    - [參考這邊](MicroPython How to.ipynb)  --> 改為直接使用Linear MQTT Dashboard進行教學\n",
    "- 溫溼度資訊上雲端\n",
    "- 手機加入自己的點位\n",
    "- 手機控制Led"
   ]
  },
  {
   "cell_type": "code",
   "execution_count": null,
   "metadata": {
    "collapsed": true
   },
   "outputs": [],
   "source": [
    "# demo: push T/H data to MQTT Server\n",
    "\n",
    "from umqtt.simple import MQTTClient\n",
    "from machine import Pin\n",
    "import dht\n",
    "import ubinascii\n",
    "import machine\n",
    "import network\n",
    "import time\n",
    "import os\n",
    "\n",
    "TOPIC_BASE = 'malo-iot'\n",
    "\n",
    "def dht_get():\n",
    "    ''' get dht11 sensor's value (T, H)\n",
    "        return:\n",
    "            (Temperature, Humidity)\n",
    "    '''\n",
    "    T=None\n",
    "    H=None\n",
    "    try:\n",
    "        dht11 = dht.DHT11(Pin(0)) #D3\n",
    "\n",
    "        dht11.measure()\n",
    "        T = dht11.temperature()\n",
    "        H = dht11.humidity()\n",
    "    except Exception as e:\n",
    "        print('dht_get error:', str(e))\n",
    "    \n",
    "    return T, H\n",
    "\n",
    "\n",
    "# Default MQTT server to connect to\n",
    "server = \"iot.eclipse.org\"\n",
    "CLIENT_ID = ubinascii.hexlify(machine.unique_id()).decode('utf-8')\n",
    "topic_t = TOPIC_BASE+'/T'\n",
    "topic_h = TOPIC_BASE+'/H'\n",
    "\n",
    "c = MQTTClient(CLIENT_ID, server)\n",
    "c.connect()\n",
    "\n",
    "tm_pub_th = time.ticks_ms()\n",
    "\n",
    "for i in range(3):\n",
    "    time.sleep(1)\n",
    "    T, H = dht_get()\n",
    "    c.publish(topic_t, str(T))\n",
    "    c.publish(topic_h, str(H))\n"
   ]
  },
  {
   "cell_type": "markdown",
   "metadata": {},
   "source": [
    "### 練習題：改成不斷push資料"
   ]
  },
  {
   "cell_type": "code",
   "execution_count": null,
   "metadata": {
    "collapsed": true
   },
   "outputs": [],
   "source": [
    "# TODO:\n"
   ]
  },
  {
   "cell_type": "markdown",
   "metadata": {},
   "source": [
    "#### Demo：一邊上傳，一邊接受控制Led燈號"
   ]
  },
  {
   "cell_type": "markdown",
   "metadata": {},
   "source": [
    "#### 練習題：再加入控制蜂鳴器的功能"
   ]
  },
  {
   "cell_type": "code",
   "execution_count": null,
   "metadata": {
    "collapsed": true
   },
   "outputs": [],
   "source": [
    "# TODO:"
   ]
  },
  {
   "cell_type": "markdown",
   "metadata": {},
   "source": [
    "----\n",
    "## 網頁伺服器\n",
    "- 練習題：製作網頁顯示溫溼度資訊\n",
    "- 練習題：製作網頁控制Led\n",
    "- 練習題：製作網頁控制蜂鳴器發聲\n",
    "- [demo](webdemo)"
   ]
  },
  {
   "cell_type": "code",
   "execution_count": null,
   "metadata": {
    "collapsed": true
   },
   "outputs": [],
   "source": []
  },
  {
   "cell_type": "markdown",
   "metadata": {},
   "source": [
    "## WebDuino的idea: Webduino + Google 試算表記錄開/關燈時間"
   ]
  },
  {
   "cell_type": "markdown",
   "metadata": {},
   "source": [
    "### 補充教材：在Jupyter notebook和micropython互動"
   ]
  },
  {
   "cell_type": "code",
   "execution_count": 1,
   "metadata": {},
   "outputs": [
    {
     "name": "stderr",
     "output_type": "stream",
     "text": [
      "ERROR:root:Line magic function `%serialconnect` not found.\n"
     ]
    }
   ],
   "source": [
    "%serialconnect to --port=com13 --baud=115200"
   ]
  },
  {
   "cell_type": "code",
   "execution_count": null,
   "metadata": {
    "collapsed": true
   },
   "outputs": [],
   "source": []
  }
 ],
 "metadata": {
  "kernelspec": {
   "display_name": "Python 3",
   "language": "python",
   "name": "python3"
  },
  "language_info": {
   "codemirror_mode": {
    "name": "ipython",
    "version": 3
   },
   "file_extension": ".py",
   "mimetype": "text/x-python",
   "name": "python",
   "nbconvert_exporter": "python",
   "pygments_lexer": "ipython3",
   "version": "3.6.1"
  }
 },
 "nbformat": 4,
 "nbformat_minor": 2
}
